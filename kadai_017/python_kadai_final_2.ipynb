{
  "nbformat": 4,
  "nbformat_minor": 0,
  "metadata": {
    "colab": {
      "provenance": []
    },
    "kernelspec": {
      "name": "python3",
      "display_name": "Python 3"
    },
    "language_info": {
      "name": "python"
    }
  },
  "cells": [
    {
      "cell_type": "code",
      "execution_count": 13,
      "metadata": {
        "colab": {
          "base_uri": "https://localhost:8080/"
        },
        "id": "o-PKLeT56x09",
        "outputId": "458ff8c9-8ef3-4ba3-dcd5-3d8a0c270823"
      },
      "outputs": [
        {
          "output_type": "stream",
          "name": "stdout",
          "text": [
            "はなこさんは大人ではありません。\n",
            "うめさんは大人です。\n",
            "さくらさんは大人です。\n",
            "ゆりさんは大人ではありません。\n"
          ]
        }
      ],
      "source": [
        "class Human:\n",
        "    def __init__(self, name, age):\n",
        "       self.name = name\n",
        "       self.age = age\n",
        "    def check_adult(self):\n",
        "        if self.age >= 20 :\n",
        "            print(f\"{self.name}さんは大人です。\")\n",
        "        else:\n",
        "            print(f\"{self.name}さんは大人ではありません。\")\n",
        "\n",
        "human = [Human(\"はなこ\", 19), Human(\"うめ\", 25), Human(\"さくら\", 34), Human(\"ゆり\", 4)]\n",
        "\n",
        "for adult_check in human:\n",
        "    adult_check.check_adult()\n",
        ""
      ]
    },
    {
      "cell_type": "code",
      "source": [],
      "metadata": {
        "id": "s7f0zAQ9gyt1"
      },
      "execution_count": null,
      "outputs": []
    }
  ]
}