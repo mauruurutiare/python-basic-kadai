{
  "nbformat": 4,
  "nbformat_minor": 0,
  "metadata": {
    "colab": {
      "provenance": []
    },
    "kernelspec": {
      "name": "python3",
      "display_name": "Python 3"
    },
    "language_info": {
      "name": "python"
    }
  },
  "cells": [
    {
      "cell_type": "code",
      "execution_count": 9,
      "metadata": {
        "colab": {
          "base_uri": "https://localhost:8080/"
        },
        "id": "o-PKLeT56x09",
        "outputId": "6a0e4742-3dbf-4ac2-9630-b082f2ecb52a"
      },
      "outputs": [
        {
          "output_type": "stream",
          "name": "stdout",
          "text": [
            "はなこさんは大人ではありません。\n",
            "うめさんは大人です。\n",
            "さくらさんは大人です。\n",
            "ゆりさんは大人ではありません。\n"
          ]
        }
      ],
      "source": [
        "class Human:\n",
        "    def __init__(self, name, age):\n",
        "       self.name = name\n",
        "       self.age = age\n",
        "    def check_adult(self):\n",
        "        if self.age >= 20 :\n",
        "            print(f\"{self.name}さんは大人です。\")\n",
        "        else:\n",
        "            print(f\"{self.name}さんは大人ではありません。\")\n",
        "\n",
        "human = {\"はなこ\":19, \"うめ\":25, \"さくら\":34, \"ゆり\":4}\n",
        "\n",
        "for key, value in human.items():\n",
        "    adult_check = Human(key, value)\n",
        "    adult_check.check_adult()\n",
        ""
      ]
    }
  ]
}