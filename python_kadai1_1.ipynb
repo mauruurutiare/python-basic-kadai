{
  "nbformat": 4,
  "nbformat_minor": 0,
  "metadata": {
    "colab": {
      "provenance": []
    },
    "kernelspec": {
      "name": "python3",
      "display_name": "Python 3"
    },
    "language_info": {
      "name": "python"
    }
  },
  "cells": [
    {
      "cell_type": "code",
      "execution_count": 1,
      "metadata": {
        "colab": {
          "base_uri": "https://localhost:8080/"
        },
        "id": "3tePByUgDepI",
        "outputId": "b75319f9-9b1a-4215-8760-c04c9d8010ec"
      },
      "outputs": [
        {
          "output_type": "stream",
          "name": "stdout",
          "text": [
            "台形の面積は75.0cm²です。\n"
          ]
        }
      ],
      "source": [
        "upper_side = 10\n",
        "lower_side = 20\n",
        "height = 5\n",
        "area = (upper_side + lower_side) * height / 2\n",
        "print(f\"台形の面積は{area}cm²です。\")"
      ]
    }
  ]
}