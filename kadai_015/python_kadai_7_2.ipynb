{
  "nbformat": 4,
  "nbformat_minor": 0,
  "metadata": {
    "colab": {
      "provenance": []
    },
    "kernelspec": {
      "name": "python3",
      "display_name": "Python 3"
    },
    "language_info": {
      "name": "python"
    }
  },
  "cells": [
    {
      "cell_type": "code",
      "execution_count": 10,
      "metadata": {
        "colab": {
          "base_uri": "https://localhost:8080/"
        },
        "id": "mgRTyLbPeaqI",
        "outputId": "7fd3c567-1b88-45f1-b450-218b3c60951b"
      },
      "outputs": [
        {
          "output_type": "stream",
          "name": "stdout",
          "text": [
            "はなこ 18\n"
          ]
        }
      ],
      "source": [
        "class Human:\n",
        "    def __init__(self, name, age):\n",
        "        self.name = name\n",
        "        self.age = age\n",
        "    def printinfo(self, name, age):\n",
        "            print(self.name, self.age)\n",
        "\n",
        "human = Human(\"はなこ\", 18)\n",
        "human.printinfo(\"はなこ\", 18)"
      ]
    }
  ]
}