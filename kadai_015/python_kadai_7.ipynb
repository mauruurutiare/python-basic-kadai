{
  "nbformat": 4,
  "nbformat_minor": 0,
  "metadata": {
    "colab": {
      "provenance": []
    },
    "kernelspec": {
      "name": "python3",
      "display_name": "Python 3"
    },
    "language_info": {
      "name": "python"
    }
  },
  "cells": [
    {
      "cell_type": "code",
      "execution_count": 8,
      "metadata": {
        "colab": {
          "base_uri": "https://localhost:8080/"
        },
        "id": "mgRTyLbPeaqI",
        "outputId": "2ce94476-2396-4168-f569-7330f816b219"
      },
      "outputs": [
        {
          "output_type": "stream",
          "name": "stdout",
          "text": [
            "名前 年齢\n",
            "はなこ 18\n"
          ]
        }
      ],
      "source": [
        "class Human:\n",
        "    def __init__(self, name, age):\n",
        "        self.name = name\n",
        "        self.age = age\n",
        "    def printinfo(self, name, age):\n",
        "            print(name, age)\n",
        "\n",
        "human = Human(\"名前\", \"年齢\")\n",
        "human.printinfo(\"名前\", \"年齢\")\n",
        "\n",
        "human = Human(\"はなこ\", 18)\n",
        "human.printinfo(\"はなこ\", 18)"
      ]
    }
  ]
}