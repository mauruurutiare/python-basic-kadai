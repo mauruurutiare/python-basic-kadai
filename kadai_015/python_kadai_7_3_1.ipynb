{
  "nbformat": 4,
  "nbformat_minor": 0,
  "metadata": {
    "colab": {
      "provenance": []
    },
    "kernelspec": {
      "name": "python3",
      "display_name": "Python 3"
    },
    "language_info": {
      "name": "python"
    }
  },
  "cells": [
    {
      "cell_type": "code",
      "execution_count": 14,
      "metadata": {
        "colab": {
          "base_uri": "https://localhost:8080/"
        },
        "id": "mgRTyLbPeaqI",
        "outputId": "1ad26cd6-8caf-496c-ee8e-17efc78dd9a5"
      },
      "outputs": [
        {
          "output_type": "stream",
          "name": "stdout",
          "text": [
            "はなこ 18\n"
          ]
        }
      ],
      "source": [
        "class Human:\n",
        "    def __init__(self, name, age):\n",
        "        self.name = name\n",
        "        self.age = age\n",
        "    def printinfo(self):\n",
        "            print(self.name, self.age)\n",
        "\n",
        "human = Human(\"はなこ\", 18)\n",
        "human.printinfo()"
      ]
    }
  ]
}