{
  "nbformat": 4,
  "nbformat_minor": 0,
  "metadata": {
    "colab": {
      "provenance": []
    },
    "kernelspec": {
      "name": "python3",
      "display_name": "Python 3"
    },
    "language_info": {
      "name": "python"
    }
  },
  "cells": [
    {
      "cell_type": "code",
      "execution_count": 4,
      "metadata": {
        "colab": {
          "base_uri": "https://localhost:8080/"
        },
        "id": "9GhfGZeBmSb1",
        "outputId": "a55c791d-7ac4-4b7f-b696-3cb0278313ca"
      },
      "outputs": [
        {
          "output_type": "stream",
          "name": "stdout",
          "text": [
            "消費税込み合計金額は121.0円です。\n"
          ]
        }
      ],
      "source": [
        "def sales_tax(price, tax):\n",
        "    total = price * (100 + tax) / 100\n",
        "    print(f\"消費税込み合計金額は{total}円です。\")\n",
        "\n",
        "sales_tax(110, 10)"
      ]
    }
  ]
}