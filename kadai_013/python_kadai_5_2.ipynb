{
  "nbformat": 4,
  "nbformat_minor": 0,
  "metadata": {
    "colab": {
      "provenance": []
    },
    "kernelspec": {
      "name": "python3",
      "display_name": "Python 3"
    },
    "language_info": {
      "name": "python"
    }
  },
  "cells": [
    {
      "cell_type": "code",
      "execution_count": 2,
      "metadata": {
        "colab": {
          "base_uri": "https://localhost:8080/"
        },
        "id": "LfNBmu3WNR6E",
        "outputId": "18e89df0-a4dd-427a-a4dd-c1cbba3ef216"
      },
      "outputs": [
        {
          "output_type": "stream",
          "name": "stdout",
          "text": [
            "消費税込み合計金額は121.0円です。\n"
          ]
        }
      ],
      "source": [
        "def sales_tax(price, tax):\n",
        "    total = price * (100 + tax) / 100\n",
        "    return total\n",
        "\n",
        "result = sales_tax(110, 10)\n",
        "print(f\"消費税込み合計金額は{result}円です。\")"
      ]
    }
  ]
}