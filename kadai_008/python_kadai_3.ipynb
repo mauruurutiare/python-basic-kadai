{
  "nbformat": 4,
  "nbformat_minor": 0,
  "metadata": {
    "colab": {
      "provenance": []
    },
    "kernelspec": {
      "name": "python3",
      "display_name": "Python 3"
    },
    "language_info": {
      "name": "python"
    }
  },
  "cells": [
    {
      "cell_type": "code",
      "execution_count": 26,
      "metadata": {
        "colab": {
          "base_uri": "https://localhost:8080/"
        },
        "id": "s2p4NiqfJmMU",
        "outputId": "336b1baf-92df-4d6d-962d-4cc5b903cb12"
      },
      "outputs": [
        {
          "output_type": "stream",
          "name": "stdout",
          "text": [
            "82\n"
          ]
        }
      ],
      "source": [
        "import random\n",
        "var = random.randint(1, 100)\n",
        "# print(var)\n",
        "if var % 3 == 0 and var % 5 >0:\n",
        "    print(\"Fizz\")\n",
        "elif var % 5 == 0 and var % 3 >0:\n",
        "    print(\"Buzz\")\n",
        "elif var % 3 == 0 and var % 5 == 0:\n",
        "    print(\"FizzBuzz\")\n",
        "else:\n",
        "    print(var)"
      ]
    }
  ]
}