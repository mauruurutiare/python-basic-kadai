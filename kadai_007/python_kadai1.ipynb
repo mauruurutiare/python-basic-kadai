{
  "nbformat": 4,
  "nbformat_minor": 0,
  "metadata": {
    "colab": {
      "provenance": []
    },
    "kernelspec": {
      "name": "python3",
      "display_name": "Python 3"
    },
    "language_info": {
      "name": "python"
    }
  },
  "cells": [
    {
      "cell_type": "code",
      "execution_count": 2,
      "metadata": {
        "colab": {
          "base_uri": "https://localhost:8080/"
        },
        "id": "3tePByUgDepI",
        "outputId": "32863469-7f6c-4d51-ace6-844b3f1f01c5"
      },
      "outputs": [
        {
          "output_type": "stream",
          "name": "stdout",
          "text": [
            "台形の面積は75.0㎝2です。\n"
          ]
        }
      ],
      "source": [
        "upper_side = 10\n",
        "lower_side = 20\n",
        "height = 5\n",
        "area = (upper_side + lower_side) * height / 2\n",
        "print(f\"台形の面積は{area}㎝2です。\")"
      ]
    }
  ]
}